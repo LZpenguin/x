{
 "cells": [
  {
   "cell_type": "code",
   "execution_count": null,
   "metadata": {},
   "outputs": [
    {
     "name": "stderr",
     "output_type": "stream",
     "text": [
      "/opt/conda/lib/python3.11/site-packages/tqdm/auto.py:21: TqdmWarning: IProgress not found. Please update jupyter and ipywidgets. See https://ipywidgets.readthedocs.io/en/stable/user_install.html\n",
      "  from .autonotebook import tqdm as notebook_tqdm\n",
      "Loading checkpoint shards: 100%|██████████| 2/2 [00:00<00:00,  2.77it/s]\n"
     ]
    }
   ],
   "source": [
    "from transformers import AutoModelForCausalLM, AutoTokenizer, Trainer, TrainingArguments, set_seed\n",
    "from dataset import XingDataset\n",
    "import json\n",
    "\n",
    "model = AutoModelForCausalLM.from_pretrained(\"/root/holo/x/models/ft/Qwen3-4B-ft-full-2048左截断/checkpoint-992\").to('cuda:0')\n",
    "tokenizer = AutoTokenizer.from_pretrained(\"../../models/Qwen3-4B\")"
   ]
  },
  {
   "cell_type": "code",
   "execution_count": 2,
   "metadata": {},
   "outputs": [
    {
     "name": "stderr",
     "output_type": "stream",
     "text": [
      "处理预训练数据: 100%|██████████| 200/200 [00:00<00:00, 5501.95 examples/s]\n"
     ]
    }
   ],
   "source": [
    "d = XingDataset('../data/val.json').data"
   ]
  },
  {
   "cell_type": "code",
   "execution_count": null,
   "metadata": {},
   "outputs": [
    {
     "data": {
      "text/plain": [
       "{'prompt': \"你是一个法律助手，请根据以下案件信息预量刑标签(只有拘役和有期徒刑可以有缓刑)\\n案件详情:\\n**省**市**区人民法院\\n刑事判决书\\n（2018）* 011* 刑初 3019* 号\\n公诉机关**省**市**区人民检察院。\\n被告人郑*甲，男，1973 年 7 月 11 日出生于**省**市，\\n身份证号码 ******************，汉族，小学文化，务工，户籍\\n所在地为**省**市**县**镇**村民兴*甲。2012 年 8 月\\n21 日因犯聚众斗殴罪被本院判处有期徒刑十个月，缓刑一年。现\\n因本案于 2017 年 11 月 2 日被羁押，同年 12 月 7 日被逮捕。现被\\n押于**市**区看守所。\\n被告人梁*甲，男，1977 年 12 月 26 日出生于**省**县，\\n身份证号码 ******************，汉族，初中文化，务工，户籍\\n所在地为**省**县**镇**村8 组 16 号，现住**省**市**区城郊街旺城大道蜜糖苑 10 栋 1002 房。因本案于 2017\\n年 11 月 2 日被羁押，同年 12 月 6 日被取保候审。\\n被告人姜*甲，男，1977 年 9 月 16 日出生于**省景谷傣\\n族彝族自治县，身份证号码 ******************，汉族，初中文\\n化，务工，户籍所在地为**省**市景谷傣族彝族自治县碧安\\n乡大寨村民委员会大寨村民小组三组 21。因本案于 2017 年 11 月\\n2 日被羁押，同年 12 月 6 日被取保候审。\\n**省**市**区人民检察院以*从检公诉刑诉\\n1\\n[2018]144 号起诉书指控被告人郑*甲、梁*甲、姜*甲犯故意\\n伤害罪。本院适用刑事案件速裁程序，实行独任审判，公开开庭\\n审理了本案。**市**区人民检察院指派检察员胡*甲出庭支\\n持公诉。\\n公诉机关指控：2017 年 11 月 2 日 13 时许，被*甲冉*甲到\\n**省**市**区城郊街**村钢管厂工地仓库向被告人梁*甲讨要工钱，后双方发生争吵，继而被*甲冉*甲手持扳手与被\\n告人郑*甲手持砍柴刀、姜*甲手持木棍、梁*甲用手相互殴打，\\n致使双方不同程度受伤。经鉴定，被*甲冉*甲头面部、四肢损\\n伤符合钝物作用形成，左背部损伤符合锐器作用形成，造成双侧\\n鼻骨粉碎性骨折、鼻中隔前部骨折，损伤程度为轻伤二级。后被\\n告人郑*甲、梁*甲、姜*甲在得知冉*甲报警的情况下，留在\\n现场等待民警调查，民警到场后在现场收缴扳手两把、砍刀一把。\\n案发后，被告人梁*甲的家属与被*甲冉*甲达成赔偿协议，被\\n害人冉*甲表示对三名被告人予以谅解。公诉机关认为三名被告\\n人均有自首情节，建议对被告人郑*甲判处有期徒刑七个月以上\\n十个月以下刑罚；对被告人梁*甲、姜*甲判处有期徒刑六个月\\n以上九个月以下刑罚。\\n被告人郑*甲、梁*甲、姜*甲对指控事实、罪名及量刑建\\n议没有异议且签字具结，在开庭审理过程中亦无异议。\\n涉案人员:\\n['郑*甲', '梁*甲', '姜*甲']\\n<|im_start|>[{'person_name': '郑*甲', 'predicted_sentence1': {'desc': '管制（月数）', 'value': 0}, 'predicted_sentence2': {'desc': '拘役（月数）', 'value': 0.0}, 'predicted_sentence3': {'desc': '有期徒刑（月数）', 'value': 7.0}, 'predicted_sentence4': {'desc': '缓刑（月数）', 'value': 0.0}, 'predicted_sentence5': {'desc': '无期徒刑', 'value': False}, 'predicted_sentence6': {'desc': '死刑', 'value': False}}, {'person_name': '梁*甲', 'predicted_sentence1': {'desc': '管制（月数）', 'value': 0}, 'predicted_sentence2': {'desc': '拘役（月数）', 'value': 0.0}, 'predicted_sentence3': {'desc': '有期徒刑（月数）', 'value': 6.0}, 'predicted_sentence4': {'desc': '缓刑（月数）', 'value': 12.0}, 'predicted_sentence5': {'desc': '无期徒刑', 'value': False}, 'predicted_sentence6': {'desc': '死刑', 'value': False}}, {'person_name': '姜*甲', 'predicted_sentence1': {'desc': '管制（月数）', 'value': 0}, 'predicted_sentence2': {'desc': '拘役（月数）', 'value': 0.0}, 'predicted_sentence3': {'desc': '有期徒刑（月数）', 'value': 6.0}, 'predicted_sentence4': {'desc': '缓刑（月数）', 'value': 12.0}, 'predicted_sentence5': {'desc': '无期徒刑', 'value': False}, 'predicted_sentence6': {'desc': '死刑', 'value': False}}]<|im_end|>\"}"
      ]
     },
     "execution_count": 3,
     "metadata": {},
     "output_type": "execute_result"
    },
    {
     "ename": "",
     "evalue": "",
     "output_type": "error",
     "traceback": [
      "\u001b[1;31mThe Kernel crashed while executing code in the current cell or a previous cell. \n",
      "\u001b[1;31mPlease review the code in the cell(s) to identify a possible cause of the failure. \n",
      "\u001b[1;31mClick <a href='https://aka.ms/vscodeJupyterKernelCrash'>here</a> for more info. \n",
      "\u001b[1;31mView Jupyter <a href='command:jupyter.viewOutput'>log</a> for further details."
     ]
    }
   ],
   "source": [
    "d[0]"
   ]
  },
  {
   "cell_type": "code",
   "execution_count": null,
   "metadata": {},
   "outputs": [],
   "source": [
    "idx = 23\n",
    "model_inputs = tokenizer(d[idx]['prompt'].split('<|im_start|>')[0]+'<|im_start|>', return_tensors=\"pt\").to(model.device)\n",
    "generated_ids = model.generate(**model_inputs, max_new_tokens=1024)\n",
    "output_ids = generated_ids[0][len(model_inputs.input_ids[0]):].tolist() \n",
    "output = tokenizer.decode(output_ids, skip_special_tokens=True).strip()"
   ]
  },
  {
   "cell_type": "code",
   "execution_count": 10,
   "metadata": {},
   "outputs": [
    {
     "data": {
      "text/plain": [
       "[{'person_name': '陈*甲',\n",
       "  'predicted_sentence1': {'desc': '管制（月数）', 'value': 0.0},\n",
       "  'predicted_sentence2': {'desc': '拘役（月数）', 'value': 0.0},\n",
       "  'predicted_sentence3': {'desc': '有期徒刑（月数）', 'value': 7.0},\n",
       "  'predicted_sentence4': {'desc': '缓刑（月数）', 'value': 12.0},\n",
       "  'predicted_sentence5': {'desc': '无期徒刑', 'value': False},\n",
       "  'predicted_sentence6': {'desc': '死刑', 'value': False}}]"
      ]
     },
     "execution_count": 10,
     "metadata": {},
     "output_type": "execute_result"
    }
   ],
   "source": [
    "json.loads(output.replace(\"'\", '\"').replace('False', 'false').replace('True', 'true'))"
   ]
  },
  {
   "cell_type": "code",
   "execution_count": null,
   "metadata": {},
   "outputs": [
    {
     "data": {
      "text/plain": [
       "[{'person_name': '陈*甲',\n",
       "  'predicted_sentence1': {'desc': '管制（月数）', 'value': 0},\n",
       "  'predicted_sentence2': {'desc': '拘役（月数）', 'value': 6.0},\n",
       "  'predicted_sentence3': {'desc': '有期徒刑（月数）', 'value': 0.0},\n",
       "  'predicted_sentence4': {'desc': '缓刑（月数）', 'value': 10.0},\n",
       "  'predicted_sentence5': {'desc': '无期徒刑', 'value': False},\n",
       "  'predicted_sentence6': {'desc': '死刑', 'value': False}}]"
      ]
     },
     "execution_count": 11,
     "metadata": {},
     "output_type": "execute_result"
    },
    {
     "ename": "",
     "evalue": "",
     "output_type": "error",
     "traceback": [
      "\u001b[1;31mThe Kernel crashed while executing code in the current cell or a previous cell. \n",
      "\u001b[1;31mPlease review the code in the cell(s) to identify a possible cause of the failure. \n",
      "\u001b[1;31mClick <a href='https://aka.ms/vscodeJupyterKernelCrash'>here</a> for more info. \n",
      "\u001b[1;31mView Jupyter <a href='command:jupyter.viewOutput'>log</a> for further details."
     ]
    }
   ],
   "source": [
    "json.loads(d[idx]['prompt'].split('<|im_start|>')[1].split('<|im_end|>')[0].replace(\"'\", '\"').replace('False', 'false').replace('True', 'true'))"
   ]
  }
 ],
 "metadata": {
  "kernelspec": {
   "display_name": "Python 3",
   "language": "python",
   "name": "python3"
  },
  "language_info": {
   "codemirror_mode": {
    "name": "ipython",
    "version": 3
   },
   "file_extension": ".py",
   "mimetype": "text/x-python",
   "name": "python",
   "nbconvert_exporter": "python",
   "pygments_lexer": "ipython3",
   "version": "3.10.12"
  }
 },
 "nbformat": 4,
 "nbformat_minor": 2
}
