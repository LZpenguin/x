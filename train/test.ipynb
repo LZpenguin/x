{
 "cells": [
  {
   "cell_type": "code",
   "execution_count": null,
   "metadata": {},
   "outputs": [],
   "source": [
    "from transformers import AutoModelForCausalLM, AutoTokenizer, Trainer, TrainingArguments, set_seed\n",
    "from dataset import XingDataset\n",
    "import json\n",
    "\n",
    "model = AutoModelForCausalLM.from_pretrained(\"/root/holo/x/models/ft/Qwen3-4B-ft-full-2048左截断/checkpoint-992\").to('cuda:0')\n",
    "tokenizer = AutoTokenizer.from_pretrained(\"../../models/Qwen3-4B\")"
   ]
  },
  {
   "cell_type": "code",
   "execution_count": null,
   "metadata": {},
   "outputs": [],
   "source": [
    "d = XingDataset('../data/val.json').data"
   ]
  },
  {
   "cell_type": "code",
   "execution_count": null,
   "metadata": {},
   "outputs": [],
   "source": [
    "d[0]"
   ]
  },
  {
   "cell_type": "code",
   "execution_count": null,
   "metadata": {},
   "outputs": [],
   "source": [
    "idx = 23\n",
    "model_inputs = tokenizer(d[idx]['prompt'].split('<|im_start|>')[0]+'<|im_start|>', return_tensors=\"pt\").to(model.device)\n",
    "generated_ids = model.generate(**model_inputs, max_new_tokens=1024)\n",
    "output_ids = generated_ids[0][len(model_inputs.input_ids[0]):].tolist() \n",
    "output = tokenizer.decode(output_ids, skip_special_tokens=True).strip()"
   ]
  },
  {
   "cell_type": "code",
   "execution_count": null,
   "metadata": {},
   "outputs": [],
   "source": [
    "json.loads(output.replace(\"'\", '\"').replace('False', 'false').replace('True', 'true'))"
   ]
  },
  {
   "cell_type": "code",
   "execution_count": null,
   "metadata": {},
   "outputs": [],
   "source": [
    "json.loads(d[idx]['prompt'].split('<|im_start|>')[1].split('<|im_end|>')[0].replace(\"'\", '\"').replace('False', 'false').replace('True', 'true'))"
   ]
  },
  {
   "cell_type": "code",
   "execution_count": null,
   "metadata": {},
   "outputs": [],
   "source": [
    "import json\n",
    "from tqdm import tqdm\n",
    "\n",
    "zui_output = '../output/zui/qwen3-8b-ft-valb_val.json'\n",
    "\n",
    "with open(zui_output, 'r') as f:\n",
    "    data = json.load(f)\n",
    "\n",
    "match_idx = []\n",
    "unmatch_idx = []\n",
    "\n",
    "for idx, item in tqdm(enumerate(data)):\n",
    "    for idx2, label in enumerate(item['case_judgment_label']):\n",
    "        person = label['person_name']\n",
    "        predict_zui = item['zui'][person]\n",
    "        answer_zui = ''\n",
    "        for i in [1,2,3,5,6]:\n",
    "            if label[f'predicted_sentence{i}']['value']:\n",
    "                answer_zui = label[f'predicted_sentence{i}']['desc'].split('（')[0]\n",
    "        if label['predicted_sentence4']['value']:\n",
    "            answer_zui += f' 缓刑'\n",
    "        if answer_zui == predict_zui:\n",
    "            match_idx.append(f'{idx} {idx2}')\n",
    "        else:\n",
    "            unmatch_idx.append(f'{idx} {idx2}')\n",
    "\n",
    "print(len(match_idx), len(unmatch_idx))\n"
   ]
  },
  {
   "cell_type": "code",
   "execution_count": null,
   "metadata": {},
   "outputs": [],
   "source": [
    "data[0]"
   ]
  }
 ],
 "metadata": {
  "kernelspec": {
   "display_name": "Python 3",
   "language": "python",
   "name": "python3"
  },
  "language_info": {
   "codemirror_mode": {
    "name": "ipython",
    "version": 3
   },
   "file_extension": ".py",
   "mimetype": "text/x-python",
   "name": "python",
   "nbconvert_exporter": "python",
   "pygments_lexer": "ipython3",
   "version": "3.10.12"
  }
 },
 "nbformat": 4,
 "nbformat_minor": 2
}
