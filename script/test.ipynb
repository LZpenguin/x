{
 "cells": [
  {
   "cell_type": "code",
   "execution_count": 2,
   "id": "77fb207b",
   "metadata": {},
   "outputs": [],
   "source": [
    "import json\n",
    "\n",
    "data = json.load(open('../data/IntentionalInjury_cases_train.json', 'r', encoding='utf-8'))\n",
    "data_test = json.load(open('../data/IntentionalInjury_cases_test.json', 'r', encoding='utf-8'))"
   ]
  },
  {
   "cell_type": "code",
   "execution_count": 3,
   "id": "1c976545",
   "metadata": {},
   "outputs": [],
   "source": [
    "import random\n",
    "\n",
    "# 设置随机种子以确保结果可重现\n",
    "random.seed(42)\n",
    "\n",
    "# 随机打乱数据\n",
    "shuffled_data = data.copy()\n",
    "random.shuffle(shuffled_data)\n",
    "\n",
    "# 分割数据集\n",
    "data_val = shuffled_data[:200]\n",
    "data_train = shuffled_data[200:]\n",
    "\n",
    "# 按case_id排序以保持一致性\n",
    "data_val.sort(key=lambda x: x['case_id'])\n",
    "data_train.sort(key=lambda x: x['case_id'])\n",
    "\n",
    "# 保存验证集\n",
    "with open('../data/val_b.json', 'w', encoding='utf-8') as f:\n",
    "    json.dump(data_val, f, indent=2, ensure_ascii=False)\n",
    "\n",
    "# 保存训练集\n",
    "with open('../data/train_b.json', 'w', encoding='utf-8') as f:\n",
    "    json.dump(data_train, f, indent=2, ensure_ascii=False)"
   ]
  },
  {
   "cell_type": "code",
   "execution_count": 7,
   "id": "a66ec50d",
   "metadata": {},
   "outputs": [
    {
     "name": "stdout",
     "output_type": "stream",
     "text": [
      "{'有期徒刑（月数）': '7069 (64.89%)', '缓刑（月数）': '3109 (28.54%)', '拘役（月数）': '695 (6.38%)', '无期徒刑': '15 (0.14%)', '管制（月数）': '5 (0.05%)'}\n",
      "{'有期徒刑（月数）': '220 (64.90%)', '缓刑（月数）': '96 (28.32%)', '拘役（月数）': '23 (6.78%)'}\n"
     ]
    }
   ],
   "source": [
    "import json\n",
    "\n",
    "with open('../data/train_b.json', 'r', encoding='utf-8') as f:\n",
    "    dt = json.load(f)\n",
    "\n",
    "with open('../data/val_b.json', 'r', encoding='utf-8') as f:\n",
    "    dv = json.load(f)\n",
    "\n",
    "def calc(d):\n",
    "    data = {}\n",
    "    for item in d:\n",
    "        for person in item['case_judgment_label']:\n",
    "            for i in range(1, 7):\n",
    "                key = 'predicted_sentence' + str(i)\n",
    "                if person[key]['value']:\n",
    "                    data[person[key]['desc']] = data.get(person[key]['desc'], 0) + 1\n",
    "\n",
    "    total = sum(data.values())\n",
    "    for k, v in data.items():\n",
    "        data[k] = f'{v} ({v/total*100:.2f}%)'\n",
    "    return data\n",
    "\n",
    "\n",
    "print(calc(dt))\n",
    "print(calc(dv))"
   ]
  }
 ],
 "metadata": {
  "kernelspec": {
   "display_name": "base",
   "language": "python",
   "name": "python3"
  },
  "language_info": {
   "codemirror_mode": {
    "name": "ipython",
    "version": 3
   },
   "file_extension": ".py",
   "mimetype": "text/x-python",
   "name": "python",
   "nbconvert_exporter": "python",
   "pygments_lexer": "ipython3",
   "version": "3.9.12"
  }
 },
 "nbformat": 4,
 "nbformat_minor": 5
}
