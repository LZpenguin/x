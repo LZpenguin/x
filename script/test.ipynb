{
 "cells": [
  {
   "cell_type": "code",
   "execution_count": 1,
   "id": "77fb207b",
   "metadata": {},
   "outputs": [],
   "source": [
    "import json\n",
    "\n",
    "data = json.load(open('../data/IntentionalInjury_cases_train.json', 'r', encoding='utf-8'))\n",
    "data_test = json.load(open('../data/IntentionalInjury_cases_test.json', 'r', encoding='utf-8'))"
   ]
  },
  {
   "cell_type": "code",
   "execution_count": 3,
   "id": "6bcaa52e",
   "metadata": {},
   "outputs": [
    {
     "data": {
      "text/plain": [
       "6843"
      ]
     },
     "execution_count": 3,
     "metadata": {},
     "output_type": "execute_result"
    }
   ],
   "source": [
    "len(data)"
   ]
  },
  {
   "cell_type": "code",
   "execution_count": 24,
   "id": "37ef67f8",
   "metadata": {},
   "outputs": [
    {
     "data": {
      "text/plain": [
       "[{'person_name': '林*甲',\n",
       "  'predicted_sentence1': {'value': 0, 'desc': '管制（月数）'},\n",
       "  'predicted_sentence2': {'value': 0, 'desc': '拘役（月数）'},\n",
       "  'predicted_sentence3': {'value': 12.0, 'desc': '有期徒刑（月数）'},\n",
       "  'predicted_sentence4': {'value': 24.0, 'desc': '缓刑（月数）'},\n",
       "  'predicted_sentence5': {'value': False, 'desc': '无期徒刑'},\n",
       "  'predicted_sentence6': {'value': False, 'desc': '死刑'}}]"
      ]
     },
     "execution_count": 24,
     "metadata": {},
     "output_type": "execute_result"
    }
   ],
   "source": [
    "idx = 0\n",
    "data[idx]['case_judgment_label']"
   ]
  },
  {
   "cell_type": "code",
   "execution_count": 25,
   "id": "881f8086",
   "metadata": {},
   "outputs": [
    {
     "name": "stdout",
     "output_type": "stream",
     "text": [
      "**省**市**区人民法院\n",
      "刑\n",
      "事\n",
      "判\n",
      "决\n",
      "书\n",
      "（2019）* 011* 刑初 3015* 号\n",
      "公诉机关**市**区人民检察院。\n",
      "被告人林*甲，男，1992 年 11 月 22 日出生，汉族，文\n",
      "化程度小学，户籍地**省**市**县**镇**村委会\n",
      "**村西区 84 号。因本案于 2018 年 9 月 7 日被羁押，并于\n",
      "次日被刑事拘留，同年 10 月 1 日被逮捕。现羁押于**市\n",
      "**区看守所。\n",
      "辩护人贾*甲，广东红方律师事务所律师。\n",
      "**市**区人民检察院以*云检公诉刑诉﹝2019﹞\n",
      "25 号起诉书，指控被告人林*甲犯故意伤害罪，于 2019 年\n",
      "1 月 7 日向本院提起公诉。本院适用简易程序，实行独任审\n",
      "判，公开开庭审理了本案。**市**区人民检察院指派检\n",
      "察员李*甲出庭支持公诉，被告人林*甲及其辩护人贾*甲\n",
      "均到庭参加了诉讼。本案现已审理终结。\n",
      "公诉机关指控，2017 年 11 月 20 日 3 时许，被告人林*甲在本市**区黄石街广云路欧陆酒吧门口人行道，因故与\n",
      "李*乙发生纠纷，后林*甲伙同同案人“小*甲”\n",
      "、\n",
      "“小*乙”\n",
      "（均\n",
      "另案处理），持剪刀、尖刀等工具殴打李*乙、李*丙、褚\n",
      "某龙致其受伤。经鉴定，李*乙的损伤构成轻伤二级；李某\n",
      "1\n",
      "祥的损伤构成轻微伤；褚*甲龙的损伤构成轻微伤。为证实上\n",
      "述事实，公诉机关提供了书证、被害人陈述、被告人供述等\n",
      "证据，并据此认为，被告人林*甲结伙故意伤害他人身体，\n",
      "致一人轻伤、二人轻微伤，其行为已触犯《中华人民共和国\n",
      "刑法》第二百三十四条第一款之规定，应以故意伤害罪追究\n",
      "刑事责任。林*甲犯罪后能够如实供述自己的罪行，可以从\n",
      "轻处罚。提请本院依法判处。\n",
      "被告人林*甲对公诉机关指控的事实及罪名均不持异\n",
      "议。辩护人提出以下辩护意见：1.被告人林*甲犯罪情节轻\n",
      "微，本案中被害人有过错；2.被告人林*甲有悔罪表现；3.\n",
      "被告人林*甲已赔偿被害人并取得谅解。综上，请求对被告\n",
      "人林*甲从轻处罚。\n",
      "经审理查明，2017 年 11 月 20 日 3 时许，被告人林*甲\n",
      "在**市**区黄石街广云路欧陆酒吧门口人行道，因故与\n",
      "被害人李*丁发生纠纷。后被告人林*甲伙同同案人持剪\n",
      "刀、尖刀等工具殴打被害人李*丁、李*戊、褚*乙并致其\n",
      "受伤。经鉴定，被害人李*丁右尺骨骨折构成轻伤二级，李*戊、褚*乙的损伤均构成轻微伤。2018 年 9 月 7 日，被告\n",
      "人林*甲被公安机关抓获归案。\n",
      "案发后，被告人林*甲及其家属赔偿被害人李*丁、李*戊、褚*乙并取得谅解。\n",
      "上述事实，有下列经庭审举证、质证，本院予以确认的\n",
      "2\n",
      "证据证实：1.鉴定意见书；2.现场勘验检查记录及现场图、\n",
      "现场照片，搜查笔录，监控视频材料；3.被害人李*丁、李*戊、褚*乙的陈述及辨认材料；4.情况说明；5.赔偿及谅\n",
      "解材料；6.到案经过；7.被告人林*甲的供述。\n"
     ]
    }
   ],
   "source": [
    "print(data[idx]['case_detail'])"
   ]
  },
  {
   "cell_type": "code",
   "execution_count": 26,
   "id": "1c976545",
   "metadata": {},
   "outputs": [],
   "source": [
    "# data_val = data[:200]\n",
    "# data_val.sort(key=lambda x: x['case_id'])\n",
    "# with open('../data/val.json', 'w', encoding='utf-8') as f:\n",
    "#     json.dump(data_val, f, indent=2, ensure_ascii=False)\n",
    "\n",
    "# data_train = data[200:]\n",
    "# data_train.sort(key=lambda x: x['case_id'])\n",
    "# with open('../data/train.json', 'w', encoding='utf-8') as f:\n",
    "#     json.dump(data_train, f, indent=2, ensure_ascii=False)"
   ]
  }
 ],
 "metadata": {
  "kernelspec": {
   "display_name": "base",
   "language": "python",
   "name": "python3"
  },
  "language_info": {
   "codemirror_mode": {
    "name": "ipython",
    "version": 3
   },
   "file_extension": ".py",
   "mimetype": "text/x-python",
   "name": "python",
   "nbconvert_exporter": "python",
   "pygments_lexer": "ipython3",
   "version": "3.11.9"
  }
 },
 "nbformat": 4,
 "nbformat_minor": 5
}
